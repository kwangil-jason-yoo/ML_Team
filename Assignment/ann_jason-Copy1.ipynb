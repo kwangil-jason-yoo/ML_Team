{
 "cells": [
  {
   "cell_type": "code",
   "execution_count": 1,
   "id": "0c528b0d",
   "metadata": {},
   "outputs": [],
   "source": [
    "import os, sys\n",
    "import numpy as np\n",
    "import math\n",
    "\n",
    "from data import readDataLabels, normalize_data, train_test_split, to_categorical\n",
    "from utils import accuracy_score"
   ]
  },
  {
   "cell_type": "code",
   "execution_count": 2,
   "id": "7dd3af3b",
   "metadata": {},
   "outputs": [],
   "source": [
    "# Create an MLP with 8 neurons\n",
    "# Input -> Hidden Layer -> Output Layer -> Output\n",
    "# Neuron = f(w.x + b)\n",
    "# Do forward and backward propagation\n",
    "\n",
    "mode = 'train'      # train/test... Optional mode to avoid training incase you want to load saved model and test only."
   ]
  },
  {
   "cell_type": "code",
   "execution_count": 34,
   "id": "d2e5d3d6",
   "metadata": {},
   "outputs": [],
   "source": [
    "class ANN:\n",
    "    def __init__(self, num_input_features, num_hidden_units, num_outputs, hidden_unit_activation, output_activation, loss_function):\n",
    "        self.num_input_features = num_input_features\n",
    "        self.num_hidden_units = num_hidden_units\n",
    "        self.num_outputs = num_outputs\n",
    "\n",
    "        self.hidden_unit_activation = hidden_unit_activation\n",
    "        self.output_activation = output_activation\n",
    "        self.loss_function = loss_function\n"
   ]
  },
  {
   "cell_type": "code",
   "execution_count": 35,
   "id": "460bb664",
   "metadata": {},
   "outputs": [],
   "source": [
    "  def initialize_weights(self):   # TODO\n",
    "        # Create and Initialize the weight matrices\n",
    "        # Never initialize to all zeros. Not Cool!!!\n",
    "        # Try something like uniform distribution. Do minimal research and use a cool initialization scheme.\n",
    "        classname = self.__class__.__name__\n",
    "        # for every Linear layer in a model..\n",
    "        if classname.find('Linear') != -1:\n",
    "            # apply a uniform distribution to the weights and a bias=0\n",
    "            self.weight.data.uniform_(0.0, 1.0)\n",
    "            self.bias.data.fill_(0)\n",
    "            return"
   ]
  },
  {
   "cell_type": "code",
   "execution_count": 1,
   "id": "debecb0f",
   "metadata": {},
   "outputs": [],
   "source": [
    "def forward(self, x):      # TODO\n",
    "    io_arrays = []\n",
    "    for i in range(self.nlayers):\n",
    "        if i > 0:\n",
    "            x = np.matmul(x, self.weights[i-1]) + self.biases[i-1]\n",
    "        layer_io = [x] # input to layer i\n",
    "        if i == self.nlayers-1:\n",
    "            activation = self.output_activation[0]\n",
    "        elif i > 0:\n",
    "            activation = self.hidden_unit_activation[0]\n",
    "        else:\n",
    "            # No activation for first layer\n",
    "            activation = lambda v: v\n",
    "        x = activation(x)\n",
    "        layer_io.append(x) # output of layer i\n",
    "        io_arrays.append(layer_io)\n",
    "    return io_arrays\n",
    "        # x = input matrix\n",
    "        # hidden activation y = f(z), where z = w.x + b\n",
    "        # output = g(z'), where z' =  w'.y + b'\n",
    "        # Trick here is not to think in terms of one neuron at a time\n",
    "        # Rather think in terms of matrices where each 'element' represents a neuron\n",
    "        # and a layer operation is carried out as a matrix operation corresponding to all neurons of the layer\n",
    "    pass"
   ]
  },
  {
   "cell_type": "code",
   "execution_count": 3,
   "id": "cea9f669",
   "metadata": {},
   "outputs": [],
   "source": [
    "def backward(self, io_arrays, y_true):     # TODO\n",
    "    e = self.loss[1](io_arrays[-1][1], y_true)\n",
    "\n",
    "    batch_size = y_true.shape[0]\n",
    "    d_weights = []\n",
    "    d_biases = []\n",
    "    for i in range(self.nlayers-1, 0, -1):\n",
    "        if i == self.nlayers-1:\n",
    "            e = np.matmul(e, self.output_activation[1](io_arrays[i][0]))\n",
    "            e = np.squeeze(e, 1)\n",
    "        else:\n",
    "            e = e * self.hidden_unit_activation[1](io_arrays[i][0])\n",
    "        # averages over all samples in the batch\n",
    "        d_w = np.matmul(io_arrays[i-1][1].transpose(), e)/batch_size\n",
    "        d_b = np.mean(e, axis=0)\n",
    "        d_weights.append(d_w)\n",
    "        d_biases.append(d_b)\n",
    "        e = np.matmul(e, self.weights[i-1].transpose())\n",
    "\n",
    "    d_weights.reverse()\n",
    "    d_biases.reverse()\n",
    "\n",
    "    return (d_weights, d_biases)\n",
    "    pass"
   ]
  },
  {
   "cell_type": "code",
   "execution_count": 4,
   "id": "a5395c21",
   "metadata": {},
   "outputs": [],
   "source": [
    "def update_params(self):    # TODO\n",
    "        # Take the optimization step.\n",
    "        return"
   ]
  },
  {
   "cell_type": "code",
   "execution_count": 5,
   "id": "d5bd767b",
   "metadata": {},
   "outputs": [],
   "source": [
    "def train(self, dataset, learning_rate=0.01, num_epochs=100):\n",
    "        for epoch in range(num_epochs):\n",
    "            pass"
   ]
  },
  {
   "cell_type": "code",
   "execution_count": 6,
   "id": "274272c6",
   "metadata": {},
   "outputs": [],
   "source": [
    "def test(self, test_dataset):\n",
    "        accuracy = 0    # Test accuracy\n",
    "        # Get predictions from test dataset\n",
    "        # Calculate the prediction accuracy, see utils.py\n",
    "        return accuracy"
   ]
  },
  {
   "cell_type": "code",
   "execution_count": 7,
   "id": "9367d7c8",
   "metadata": {},
   "outputs": [],
   "source": [
    "def main(argv):\n",
    "    ann = ANN()"
   ]
  },
  {
   "cell_type": "code",
   "execution_count": 8,
   "id": "a6e133f8",
   "metadata": {},
   "outputs": [
    {
     "ename": "IndentationError",
     "evalue": "unexpected indent (2971827200.py, line 2)",
     "output_type": "error",
     "traceback": [
      "\u001b[0;36m  Input \u001b[0;32mIn [8]\u001b[0;36m\u001b[0m\n\u001b[0;31m    dataset = readDataLabels()      # dataset[0] = X, dataset[1] = y\u001b[0m\n\u001b[0m    ^\u001b[0m\n\u001b[0;31mIndentationError\u001b[0m\u001b[0;31m:\u001b[0m unexpected indent\n"
     ]
    }
   ],
   "source": [
    "# Load dataset\n",
    "    dataset = readDataLabels()      # dataset[0] = X, dataset[1] = y\n",
    "    \n",
    "     # Split data into train and test split. call function in data.py\n",
    "\n",
    "    # call ann->train()... Once trained, try to store the model to avoid re-training everytime"
   ]
  },
  {
   "cell_type": "code",
   "execution_count": null,
   "id": "52bbb4a1",
   "metadata": {},
   "outputs": [],
   "source": [
    "if mode == 'train':\n",
    "        pass        # Call ann training code here\n",
    "    else:\n",
    "        # Call loading of trained model here, if using this mode (Not required, provided for convenience)\n",
    "        raise NotImplementedError\n",
    "\n",
    "    # Call ann->test().. to get accuracy in test set and print it."
   ]
  },
  {
   "cell_type": "code",
   "execution_count": null,
   "id": "684b90f3",
   "metadata": {},
   "outputs": [],
   "source": [
    "if __name__ == \"__main__\":\n",
    "    main(sys.argv)"
   ]
  }
 ],
 "metadata": {
  "kernelspec": {
   "display_name": "Python 3 (ipykernel)",
   "language": "python",
   "name": "python3"
  },
  "language_info": {
   "codemirror_mode": {
    "name": "ipython",
    "version": 3
   },
   "file_extension": ".py",
   "mimetype": "text/x-python",
   "name": "python",
   "nbconvert_exporter": "python",
   "pygments_lexer": "ipython3",
   "version": "3.8.10"
  }
 },
 "nbformat": 4,
 "nbformat_minor": 5
}
