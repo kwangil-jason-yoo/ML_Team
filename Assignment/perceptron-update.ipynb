{
 "cells": [
  {
   "cell_type": "code",
   "execution_count": 5,
   "id": "525209ab",
   "metadata": {},
   "outputs": [],
   "source": [
    "import numpy as np"
   ]
  },
  {
   "cell_type": "markdown",
   "id": "d5a3b9a7",
   "metadata": {},
   "source": [
    "Initialize Stuff!!"
   ]
  },
  {
   "cell_type": "code",
   "execution_count": 6,
   "id": "50dc5547",
   "metadata": {},
   "outputs": [],
   "source": [
    "m = 0\n",
    "eta = 0.1\n",
    "w = np.asarray([0, 0])\n",
    "b = 0"
   ]
  },
  {
   "cell_type": "markdown",
   "id": "6c7b49fc",
   "metadata": {},
   "source": [
    "Set the input features and labels"
   ]
  },
  {
   "cell_type": "code",
   "execution_count": 7,
   "id": "878c8d05",
   "metadata": {},
   "outputs": [],
   "source": [
    "features = [[4,1], [5,3], [6,3], [2,1], [2,2], [3,1]]\n",
    "labels = [1, 1, 1, -1, -1, -1]\n",
    "alpha = [0, 0, 0, 0, 0, 0]"
   ]
  },
  {
   "cell_type": "markdown",
   "id": "40664632",
   "metadata": {},
   "source": [
    "Read the following and see if you get it."
   ]
  },
  {
   "cell_type": "code",
   "execution_count": 8,
   "id": "ab720bec",
   "metadata": {},
   "outputs": [
    {
     "name": "stdout",
     "output_type": "stream",
     "text": [
      "Update  1\n",
      "[0.4 0.1] 0.1\n",
      "[1, 0, 0, 0, 0, 0]\n",
      "Update  2\n",
      "[0.2 0. ] 0.0\n",
      "[1, 0, 0, 1, 0, 0]\n",
      "Update  3\n",
      "[ 0.  -0.1] -0.1\n",
      "[1, 0, 0, 2, 0, 0]\n",
      "Update  4\n",
      "[0.4 0. ] 0.0\n",
      "[2, 0, 0, 2, 0, 0]\n",
      "Update  5\n",
      "[ 0.2 -0.1] -0.1\n",
      "[2, 0, 0, 3, 0, 0]\n",
      "Update  6\n",
      "[ 0.  -0.2] -0.2\n",
      "[2, 0, 0, 4, 0, 0]\n",
      "Update  7\n",
      "[ 0.4 -0.1] -0.1\n",
      "[3, 0, 0, 4, 0, 0]\n",
      "Update  8\n",
      "[ 0.2 -0.2] -0.2\n",
      "[3, 0, 0, 5, 0, 0]\n"
     ]
    }
   ],
   "source": [
    "while(m<8):\n",
    "    for t in range(len(features)):\n",
    "        x_t = np.asarray(features[t])\n",
    "        r_t = labels[t]\n",
    "        \n",
    "        pred = np.dot(x_t, w.T) + b\n",
    "        if pred*r_t <= 0:\n",
    "            w = w + eta*r_t*x_t\n",
    "            b = b + eta*r_t\n",
    "            alpha[t] = alpha[t] + 1\n",
    "            m = m + 1\n",
    "            print('Update ', m)\n",
    "            print(w, b)\n",
    "            print(alpha)\n",
    "            break"
   ]
  },
  {
   "cell_type": "code",
   "execution_count": null,
   "id": "5643dbfb",
   "metadata": {},
   "outputs": [],
   "source": []
  }
 ],
 "metadata": {
  "kernelspec": {
   "display_name": "Python 3 (ipykernel)",
   "language": "python",
   "name": "python3"
  },
  "language_info": {
   "codemirror_mode": {
    "name": "ipython",
    "version": 3
   },
   "file_extension": ".py",
   "mimetype": "text/x-python",
   "name": "python",
   "nbconvert_exporter": "python",
   "pygments_lexer": "ipython3",
   "version": "3.10.4"
  }
 },
 "nbformat": 4,
 "nbformat_minor": 5
}
