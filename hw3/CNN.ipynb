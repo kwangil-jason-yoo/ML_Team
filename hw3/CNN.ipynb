{
 "cells": [
  {
   "cell_type": "markdown",
   "metadata": {},
   "source": [
    "# Image Classification with Convolutional Neural Networks\n",
    "We will classify images in this assignment. Convolutional neural networks are very successful with images. A convolutional neural network contains at least one convolutional layer and commonly pooling and dense layers.\n",
    "\n",
    "Convolutional layers perform a series of convolution operations. A convolution operation consists of elementwise multiplication of a convolutional filter and a slice of input (part of image) that has the same size as the convolutional filter. Output of the convolution operation is the sum of the elementwise products."
   ]
  },
  {
   "attachments": {
    "image.png": {
     "image/png": "[encoded data removed]"
    }
   },
   "cell_type": "markdown",
   "metadata": {},
   "source": [
    "For a given input\n",
    "\n",
    "![image.png](attachment:image.png)"
   ]
  },
  {
   "attachments": {
    "image-2.png": {
     "image/png": "[encoded data removed]"
    },
    "image.png": {
     "image/png": "[encoded data removed]"
    }
   },
   "cell_type": "markdown",
   "metadata": {},
   "source": [
    "and a convolutional filter\n",
    "\n",
    "![image.png](attachment:image.png)\n",
    "\n",
    "the output of one convolutional operation is calculated as\n",
    "\n",
    "![image-2.png](attachment:image-2.png)\n",
    "\n",
    "The weights in the convolutional filters are learned in convolutional neural networks in addition to the weights in the possibly existing dense layers."
   ]
  },
  {
   "cell_type": "code",
   "execution_count": null,
   "metadata": {},
   "outputs": [],
   "source": [
    "# Import required libraries\n",
    "import matplotlib.pyplot as plt\n",
    "import numpy as np\n",
    "\n",
    "from sklearn.metrics import confusion_matrix\n",
    "from sklearn.model_selection import StratifiedKFold, cross_val_score\n",
    "\n",
    "import tensorflow as tf\n",
    "from tensorflow.keras import datasets, layers, models\n",
    "from tensorflow.keras.wrappers.scikit_learn import KerasClassifier\n",
    "\n",
    "plt.style.use(\"ggplot\")"
   ]
  },
  {
   "cell_type": "markdown",
   "metadata": {},
   "source": [
    "[CIFAR10](https://www.cs.toronto.edu/~kriz/cifar.html) is an image recognition dataset with images from 10 classes of vehicles and animals. It is available as a dataset in Tensorflow. We load the dataset and normalize the pixel values to \\[0, 1\\]."
   ]
  },
  {
   "cell_type": "code",
   "execution_count": null,
   "metadata": {},
   "outputs": [],
   "source": [
    "(train_images, train_labels), (test_images, test_labels) = datasets.cifar10.load_data()\n",
    "\n",
    "# Normalize pixel values to be between 0 and 1\n",
    "train_images, test_images = train_images / 255.0, test_images / 255.0"
   ]
  },
  {
   "cell_type": "markdown",
   "metadata": {},
   "source": [
    "We get the shape of the images which we will need later in the code."
   ]
  },
  {
   "cell_type": "code",
   "execution_count": null,
   "metadata": {},
   "outputs": [],
   "source": [
    "image_shape = train_images.shape[1:]\n",
    "image_shape"
   ]
  },
  {
   "cell_type": "markdown",
   "metadata": {},
   "source": [
    "We can plot the first 10 images."
   ]
  },
  {
   "cell_type": "code",
   "execution_count": null,
   "metadata": {},
   "outputs": [],
   "source": [
    "class_names = [\n",
    "    \"airplane\",\n",
    "    \"automobile\",\n",
    "    \"bird\",\n",
    "    \"cat\",\n",
    "    \"deer\",\n",
    "    \"dog\",\n",
    "    \"frog\",\n",
    "    \"horse\",\n",
    "    \"ship\",\n",
    "    \"truck\",\n",
    "]\n",
    "\n",
    "plt.figure(figsize=(5, 5))\n",
    "for i in range(10):\n",
    "    plt.subplot(2, 5, i + 1)\n",
    "    plt.xticks([])\n",
    "    plt.yticks([])\n",
    "    plt.grid(False)\n",
    "    plt.imshow(train_images[i], cmap=plt.cm.binary)\n",
    "    # The CIFAR labels happen to be arrays,\n",
    "    # which is why you need the extra index\n",
    "    plt.xlabel(class_names[train_labels[i][0]])\n",
    "plt.show()"
   ]
  },
  {
   "cell_type": "markdown",
   "metadata": {},
   "source": [
    "## Building the Classifier\n",
    "\n",
    "We will use the Sequential API of Keras models. Keras provides higher level layers and functions to build neural networks, it acts an interface to TensorFlow. Our model will have 3 convolutional stacks of Conv2D and MaxPooling2D layers. These stacks are very commonly used in convolutional neural networks. Conv2D layers perform convolution operations. MaxPooling2D layers downsample their input by taking the maximum value within a grid whose size is determined by the argument to the layer. In our model, all maxpooling layers downsample a 2$\\times$2 grid and all convolutional layer filters are 3$\\times$3. We use 32 filters in the first convolutional layer and 64 in the latter ones. We use the ReLU non-linearity in each convolutional layer.\n",
    "\n",
    "Each image is represented as 3D arrays; one array for each of the red,  blue and green channels. This is reflected in the input_shape to the first Conv2D layer: input size is 32$\\times$32$\\times$3.\n",
    "\n",
    "There are two other important parameters of the Conv2D layer. Stride determines how much the filter is shifted in each dimension. A stride > 1 results in smaller outputs of the convolutional layer. The second parameter is padding. Padding='valid' keeps outputs of filters that are fully in the image (no padding is applied), padding='same' keeps the image size by zero-padding the image."
   ]
  },
  {
   "cell_type": "code",
   "execution_count": null,
   "metadata": {},
   "outputs": [],
   "source": [
    "model = models.Sequential()\n",
    "model.add(layers.Conv2D(32, (3, 3), activation=\"relu\", input_shape=image_shape))\n",
    "model.add(layers.MaxPooling2D((2, 2)))\n",
    "model.add(layers.Conv2D(64, (3, 3), activation=\"relu\"))\n",
    "model.add(layers.MaxPooling2D((2, 2)))\n",
    "model.add(layers.Conv2D(64, (3, 3), activation=\"relu\"))"
   ]
  },
  {
   "cell_type": "markdown",
   "metadata": {},
   "source": [
    "The last layer will have 10 nodes: one for each of the classes in the dataset. Adding one or more dense layer(s) before the last layer allows the model to learn complex representations of the images. Between the convolutional stacks and the dense layers, there needs to be a layer for flattening since the output of the last convolutional layer is 4$\\times$4$\\times$64."
   ]
  },
  {
   "cell_type": "code",
   "execution_count": null,
   "metadata": {},
   "outputs": [],
   "source": [
    "model.add(layers.Flatten())\n",
    "model.add(layers.Dense(64, activation=\"relu\"))\n",
    "model.add(layers.Dense(10))"
   ]
  },
  {
   "cell_type": "markdown",
   "metadata": {},
   "source": [
    "Summary of the model gives useful information: shapes of output layers and number of parameters in each layer. \"None\" values in the first dimension of layer output shapes are placeholders for the batch size."
   ]
  },
  {
   "cell_type": "code",
   "execution_count": null,
   "metadata": {},
   "outputs": [],
   "source": [
    "model.summary()"
   ]
  },
  {
   "cell_type": "markdown",
   "metadata": {},
   "source": [
    "Finally, we need to compile and fit our model. There are a number of optimizers available in Keras we will use Adam optimizer. We choose loss as SparseCategoricalCrossentropy which should be selected when the task is classification and the labels are not in one-hot-vector form. For one-hot labels, use CategoricalCrossentropy loss instead. There are two ways to use (Sparse)CategoricalCrossentropy: from_logits=True works with pre-softmax values in which case the output of the last layer in the network is linear, from_logits=False works with softmax outputs directly. Note that using logits is reported to be more numerically stable."
   ]
  },
  {
   "cell_type": "code",
   "execution_count": null,
   "metadata": {},
   "outputs": [],
   "source": [
    "model.compile(\n",
    "    optimizer=\"adam\",\n",
    "    loss=tf.keras.losses.SparseCategoricalCrossentropy(from_logits=True),\n",
    "    metrics=[\"accuracy\"],\n",
    ")\n",
    "\n",
    "history = model.fit(\n",
    "    train_images, train_labels, epochs=10, validation_data=(test_images, test_labels)\n",
    ")"
   ]
  },
  {
   "cell_type": "markdown",
   "metadata": {},
   "source": [
    "History object returned by fit contains the training and validation accuracies. From the plot, we can see that our model overfit to the training data. This is also evident from the test accuracy.\n",
    "\n",
    "We can evaluate the model on the test set with `model.evaluate` to understand the generalization performance of our model."
   ]
  },
  {
   "cell_type": "code",
   "execution_count": null,
   "metadata": {},
   "outputs": [],
   "source": [
    "plt.plot(history.history[\"accuracy\"], label=\"accuracy\")\n",
    "plt.plot(history.history[\"val_accuracy\"], label=\"val_accuracy\")\n",
    "plt.xlabel(\"Epoch\")\n",
    "plt.ylabel(\"Accuracy\")\n",
    "plt.ylim([0.5, 1])\n",
    "plt.legend(loc=\"lower right\")\n",
    "\n",
    "test_loss, test_acc = model.evaluate(test_images, test_labels, verbose=2)"
   ]
  },
  {
   "cell_type": "markdown",
   "metadata": {},
   "source": [
    "## Confusion Matrix\n",
    "Confusion matrices visualize performance of classification algorithms in a table layout. Scikit-learn has an implementation of confusion matrix for multiclass data. Each class prediction is treated as one-vs-rest.\n",
    "\n",
    "Our CNN model is set up to output logits, hence the `predict` method also returns logits. We will use the `softmax` function to get class probabilities for each test image, then use the class for which the probability was highest."
   ]
  },
  {
   "cell_type": "code",
   "execution_count": null,
   "metadata": {},
   "outputs": [],
   "source": [
    "logits = model.predict(test_images)\n",
    "preds = tf.math.argmax(tf.nn.softmax(logits), axis=1)"
   ]
  },
  {
   "cell_type": "markdown",
   "metadata": {},
   "source": [
    "For a two class classification problem would look like \n",
    "\n",
    "|Predicted/True| 0 | 1   |\n",
    "|-------------|------|------|\n",
    "|0             |True negative|False positive|\n",
    "|1        |False negative|True positive|\n",
    "\n",
    "For the ten classes in CIFAR10 dataset, the main diagonal of the confusion matrix shows the number of correctly predicted examples in each class. In general, for row $i$ and column $j$, entry $c_{ij}$ in the confusion matrix shows the number of class $i$ examples that are predicted as class $j$.\n"
   ]
  },
  {
   "cell_type": "code",
   "execution_count": null,
   "metadata": {},
   "outputs": [],
   "source": [
    "conf_mat = confusion_matrix(test_labels, preds)"
   ]
  },
  {
   "cell_type": "markdown",
   "metadata": {},
   "source": [
    "To get information about the predictions for images in, for example, the \"deer\" class, we can extract the fourth row (\"deer\" is the fourth class\") in the confusion matrix."
   ]
  },
  {
   "cell_type": "code",
   "execution_count": null,
   "metadata": {},
   "outputs": [],
   "source": [
    "conf_mat[4]\n",
    "conf_mat = conf_mat.astype(\"float\") / conf_mat.sum(axis=1)[:, np.newaxis]"
   ]
  },
  {
   "cell_type": "code",
   "execution_count": null,
   "metadata": {},
   "outputs": [],
   "source": [
    "def plot_confusion_matrix(cm, classes, title=\"Confusion matrix\", cmap=plt.cm.Blues):\n",
    "    \"\"\"\n",
    "    Plots the confusion matrix.\n",
    "    \"\"\"\n",
    "    import itertools\n",
    "\n",
    "    plt.imshow(cm, interpolation=\"nearest\", cmap=cmap)\n",
    "    plt.title(title)\n",
    "    plt.colorbar()\n",
    "    tick_marks = np.arange(len(classes))\n",
    "    plt.xticks(tick_marks, classes, rotation=45)\n",
    "    plt.yticks(tick_marks, classes)\n",
    "\n",
    "    fmt = \"2.2f\"\n",
    "    thresh = cm.max() / 2.0\n",
    "    for i, j in itertools.product(range(cm.shape[0]), range(cm.shape[1])):\n",
    "        plt.text(\n",
    "            j,\n",
    "            i,\n",
    "            format(cm[i, j], fmt),\n",
    "            horizontalalignment=\"center\",\n",
    "            color=\"white\" if cm[i, j] > thresh else \"black\",\n",
    "        )\n",
    "\n",
    "    plt.ylabel(\"True label\")\n",
    "    plt.xlabel(\"Predicted label\")\n",
    "    plt.tight_layout()"
   ]
  },
  {
   "cell_type": "code",
   "execution_count": null,
   "metadata": {},
   "outputs": [],
   "source": [
    "plt.figure(figsize=(20, 7))\n",
    "plot_confusion_matrix(conf_mat, classes=class_names)"
   ]
  },
  {
   "cell_type": "markdown",
   "metadata": {},
   "source": [
    "## K-fold cross-validation\n",
    "\n",
    "Scikit provides implementations of many useful techniques and tools commonly used in machine learning. One such technique is k-fold cross-validation which works with scikit classifiers. We can wrap our tensorflow model to act like a Scikit classifier. tf.keras provides a wrapper \"KerasClassifier\" to turn a tf.Keras model into a Scikit classifier.\n",
    "\n",
    "\"KerasClassifier\" expects a function that builds a Keras model, so we will gather model building code into a function."
   ]
  },
  {
   "cell_type": "code",
   "execution_count": null,
   "metadata": {},
   "outputs": [],
   "source": [
    "def create_model(\n",
    "    filter_nos=[32, 32, 32],\n",
    "    filter_size=(3, 3),\n",
    "    dense_layers=[64],\n",
    "    input_shape=image_shape,\n",
    "):\n",
    "    \"\"\"\n",
    "    Args:\n",
    "        filter_nos (tuple): number of filters in each Conv2D layer\n",
    "        filter_size (tuple): size of Conv2D filters. Filters are assumed to have uniform sizes across layers.\n",
    "        input_shape (tuple): shape of the input of the first layer\n",
    "        dense_layer (tuple): number of hidden units in each Dense layer except the output layer. Output layer is hardcoded to the number of classes.\n",
    "    \"\"\"\n",
    "\n",
    "    model = models.Sequential()\n",
    "\n",
    "    for i, filter_no in enumerate(filter_nos):\n",
    "        if i == 0:\n",
    "            # first Conv2D requires input_shape\n",
    "            model.add(\n",
    "                layers.Conv2D(\n",
    "                    filter_no, filter_size, activation=\"relu\", input_shape=input_shape\n",
    "                )\n",
    "            )\n",
    "        else:\n",
    "            model.add(layers.Conv2D(filter_no, filter_size, activation=\"relu\"))\n",
    "\n",
    "        if i + 1 < len(filter_nos):\n",
    "            model.add(\n",
    "                layers.MaxPooling2D((2, 2))\n",
    "            )  # add MaxPooling layer to all but the last convolutional stack\n",
    "\n",
    "    model.add(layers.Flatten())\n",
    "\n",
    "    for dense_layer in dense_layers:\n",
    "        model.add(layers.Dense(dense_layer, activation=\"relu\"))\n",
    "\n",
    "    model.add(layers.Dense(10))  # output layer\n",
    "\n",
    "    model.compile(\n",
    "        optimizer=\"adam\",\n",
    "        loss=tf.keras.losses.SparseCategoricalCrossentropy(from_logits=True),\n",
    "        metrics=[\"accuracy\"],\n",
    "    )\n",
    "\n",
    "    return model"
   ]
  },
  {
   "cell_type": "markdown",
   "metadata": {},
   "source": [
    "For instance, using the create model function, we could reproduce the model we had built before as before."
   ]
  },
  {
   "cell_type": "code",
   "execution_count": null,
   "metadata": {},
   "outputs": [],
   "source": [
    "model = create_model(filter_nos=(32, 64, 64), filter_size=(3, 3), dense_layers=(64,))\n",
    "model.summary()"
   ]
  },
  {
   "cell_type": "markdown",
   "metadata": {},
   "source": [
    "We will use the KerasClassifier as the estimator in `cross_val_score`. It accepts the function that builds our Keras model, arguments to that function as well as training parameters `epochs` and `batch_size`."
   ]
  },
  {
   "cell_type": "code",
   "execution_count": null,
   "metadata": {},
   "outputs": [],
   "source": [
    "model = KerasClassifier(\n",
    "    create_model,\n",
    "    filter_nos=(32, 64, 64),\n",
    "    filter_size=(3, 3),\n",
    "    dense_layers=(64,),\n",
    "    epochs=10,\n",
    "    batch_size=32,\n",
    ")"
   ]
  },
  {
   "cell_type": "markdown",
   "metadata": {},
   "source": [
    "We also need to create an object that handles data splitting for k-fold cross-validation. `StratifiedKFold` does this."
   ]
  },
  {
   "cell_type": "code",
   "execution_count": null,
   "metadata": {},
   "outputs": [],
   "source": [
    "num_folds = 5\n",
    "kfold = StratifiedKFold(n_splits=num_folds)\n",
    "fold_accuracies = cross_val_score(\n",
    "    estimator=model, X=train_images, y=train_labels, cv=kfold\n",
    ")"
   ]
  },
  {
   "cell_type": "markdown",
   "metadata": {},
   "source": [
    "Finally, we can print the mean accuracy and the 95\\% confidence interval."
   ]
  },
  {
   "cell_type": "code",
   "execution_count": null,
   "metadata": {},
   "outputs": [],
   "source": [
    "print(\n",
    "    \"Accuracy: {:.3f} (+/- {:.3f})\".format(\n",
    "        fold_accuracies.mean(), fold_accuracies.std() * 2\n",
    "    )\n",
    ")"
   ]
  },
  {
   "cell_type": "markdown",
   "metadata": {},
   "source": [
    "## Exercise\n",
    "\n",
    "We had observed that the CNN model had overfit the training data. Implement `EarlyStopping`, `Dropout` and $l_2$  regularization techniques to reduce overfitting. You can use all three together or separately to compare performance. Plot training and validation accuracies with the regularized model(s).\n",
    "\n",
    "\n",
    "*Hint:* This can be done by adding layers to the model and/or adding Keras callbacks. To add layers to the model, you'll need to redefine the architecture of the model. \n",
    "\n",
    "Here are relevant documentation: [$l_2$](https://www.tensorflow.org/api_docs/python/tf/keras/regularizers/L2), [Dropout](https://www.tensorflow.org/api_docs/python/tf/keras/layers/Dropout), [EarlyStopping](https://www.tensorflow.org/api_docs/python/tf/keras/callbacks/EarlyStopping)"
   ]
  },
  {
   "cell_type": "markdown",
   "metadata": {},
   "source": [
    "Content in this notebook is borrowed and adapted from [Convolutional Neural Network (CNN)](https://www.tensorflow.org/tutorials/images/cnn) which is licensed under [CC BY 4.0](https://creativecommons.org/licenses/by/4.0/).\n",
    "\n",
    "<a rel=\"license\" href=\"http://creativecommons.org/licenses/by-nc-sa/4.0/\"><img alt=\"Creative Commons License\" style=\"border-width:0\" src=\"https://i.creativecommons.org/l/by-nc-sa/4.0/88x31.png\" /></a><br />This work is licensed under a <a rel=\"license\" href=\"http://creativecommons.org/licenses/by-nc-sa/4.0/\">Creative Commons Attribution-NonCommercial-ShareAlike 4.0 International License</a>.\n",
    "\n",
    "Please contact Zeynep Hakguder (<a href=\"mailto:zphakguder@gmail.com\">zphakguder@gmail.com</a>) for further questions or inquries."
   ]
  }
 ],
 "metadata": {
  "kernelspec": {
   "display_name": "Python 3",
   "language": "python",
   "name": "python3"
  },
  "language_info": {
   "codemirror_mode": {
    "name": "ipython",
    "version": 3
   },
   "file_extension": ".py",
   "mimetype": "text/x-python",
   "name": "python",
   "nbconvert_exporter": "python",
   "pygments_lexer": "ipython3",
   "version": "3.9.0"
  }
 },
 "nbformat": 4,
 "nbformat_minor": 4
}
