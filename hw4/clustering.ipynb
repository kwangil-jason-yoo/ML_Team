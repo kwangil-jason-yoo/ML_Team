{
 "cells": [
  {
   "cell_type": "markdown",
   "metadata": {},
   "source": [
    "## Image Segmentation with K-Means Clustering\n",
    "\n",
    "Image segmentation is the process of dividing an image into parts. Later, the relevant parts of the image can be further processed instead of the whole image, e.g. background-foreground separation, locating objects in images. Segmentation is done by assigning labels to each pixel in the image, pixels sharing some characteristics are labeled similarly."
   ]
  },
  {
   "cell_type": "code",
   "execution_count": null,
   "metadata": {},
   "outputs": [],
   "source": [
    "# import required libraries\n",
    "\n",
    "import cv2\n",
    "import geopandas as gpd\n",
    "import matplotlib.image as mpimg\n",
    "import matplotlib.pyplot as plt\n",
    "import numpy as np\n",
    "import pandas as pd\n",
    "import scipy.cluster.hierarchy as shc\n",
    "from sklearn.cluster import KMeans\n",
    "from sklearn.preprocessing import MultiLabelBinarizer"
   ]
  },
  {
   "cell_type": "code",
   "execution_count": null,
   "metadata": {},
   "outputs": [],
   "source": [
    "img = mpimg.imread(\"parrot.jpg\")\n",
    "plt.axis(\"off\")\n",
    "plt.imshow(img)\n",
    "plt.show()"
   ]
  },
  {
   "cell_type": "markdown",
   "metadata": {},
   "source": [
    "We will flatten the image. Each of the pixels in the image will be a data point and each of the RGB channels will be a feature of the point."
   ]
  },
  {
   "cell_type": "code",
   "execution_count": null,
   "metadata": {
    "collapsed": true
   },
   "outputs": [],
   "source": [
    "data = img.reshape(-1, 3)"
   ]
  },
  {
   "cell_type": "markdown",
   "metadata": {},
   "source": [
    "Different values of `k` wil result in different segmentations of the image. We will set it to `k=4`."
   ]
  },
  {
   "cell_type": "code",
   "execution_count": null,
   "metadata": {},
   "outputs": [],
   "source": [
    "k = 4\n",
    "cls = KMeans(\n",
    "    n_clusters=k\n",
    ")  # initialize the clustering algorithm with the number of clusters\n",
    "cls.fit(data)  # decides which cluster each data point belongs to"
   ]
  },
  {
   "cell_type": "markdown",
   "metadata": {},
   "source": [
    "The `labels_` attribute of the clustering object, contains the cluster assignments. We will reshape these cluster assignments to the shape of the original image (excluding the RGB channels) to plot the resulting clustering."
   ]
  },
  {
   "cell_type": "code",
   "execution_count": null,
   "metadata": {},
   "outputs": [],
   "source": [
    "pixel_labels = cls.labels_.reshape(img.shape[:2])\n",
    "plt.axis(\"off\")\n",
    "plt.imshow(pixel_labels)\n",
    "plt.show()"
   ]
  },
  {
   "cell_type": "markdown",
   "metadata": {},
   "source": [
    "## US State Flora Similarity using Hierarchical Clustering\n",
    "\n",
    "Another approach to clustering is a bottom-up agglomerative approach. We will use this approach to build a hierarchical clustering method on the [UCI Plant Data Set](https://archive.ics.uci.edu/ml/datasets/Plants). We want to understand if geographically close states have similar flora. \n",
    "\n",
    "The data set has 34,782 plant types and their habitat information. In particular, the data set lists the states in US and Canada each plant occurs in. We read in the data set which is in text format, each line contains information for a plant. The raw text is split on the newlines to start preparing for the clustering algorithm. First 5 lines are shown below."
   ]
  },
  {
   "cell_type": "code",
   "execution_count": null,
   "metadata": {},
   "outputs": [],
   "source": [
    "encoding = \"ISO-8859-1\"  # encoding needed to read the data set properly\n",
    "with open(\"plants.data\", \"rb\") as f:\n",
    "    raw = f.read()\n",
    "\n",
    "raw = raw.decode(encoding).split(\n",
    "    \"\\n\"\n",
    ")  # turn the data set into a list where each list item is a plant\n",
    "raw[:5]"
   ]
  },
  {
   "cell_type": "markdown",
   "metadata": {},
   "source": [
    "As can be seen from above, each line is a comma-separated text. The first field contains the plant name, the rest contains the list of states this plant occurs in. We further split each line on the comma and extract the plant names and features into separate lists."
   ]
  },
  {
   "cell_type": "code",
   "execution_count": null,
   "metadata": {
    "collapsed": true
   },
   "outputs": [],
   "source": [
    "names = [x.split(\",\")[0] for x in raw]\n",
    "features = [x.split(\",\")[1:] for x in raw]"
   ]
  },
  {
   "cell_type": "markdown",
   "metadata": {},
   "source": [
    "We need a list of US states to extract data relevant to US states from the plants data set. This information is available in [the states cartographic boundary shape file ](https://www2.census.gov/geo/tiger/GENZ2018/shp/cb_2018_us_state_500k.zip) which is already provided in the homework bundle. More information is available [here](https://www.census.gov/geographies/mapping-files/time-series/geo/carto-boundary-file.html). \n",
    "\n",
    "This file provides state names as well as coordinate information for plotting purposes. We will use the `states` dataframe that stores this information later for projecting the clustering results on the map."
   ]
  },
  {
   "cell_type": "code",
   "execution_count": null,
   "metadata": {
    "collapsed": true
   },
   "outputs": [],
   "source": [
    "states = gpd.read_file(\n",
    "    \"cb_2018_us_state_500k/cb_2018_us_state_500k.shp\"\n",
    ")  # read the shape file\n",
    "# convert the state names to lowercase for compatibility with the plants data set\n",
    "us_states = states.STUSPS.str.lower().values"
   ]
  },
  {
   "cell_type": "markdown",
   "metadata": {},
   "source": [
    "At this point, our data is kept in `features` variable which is a list of lists. Scikit-learn provides `MultiLabelBinarizer` class to convert such data sets to vectors which can be used by the machine learning \n",
    "algorithms. Documentation of  [MultiLabelBinarizer](https://scikit-learn.org/stable/modules/generated/sklearn.preprocessing.MultiLabelBinarizer.html) provides examples on how it works.\n",
    "\n",
    "Resulting data matrix will have plants on the rows as data points and states as features. However, we would like to see the states' flora similarity. We will transpose the matrix to put our data in correct form.\n",
    "\n",
    "Lastly, we only care about the US states. We extract those states and obtain our final data set for clustering."
   ]
  },
  {
   "cell_type": "code",
   "execution_count": null,
   "metadata": {
    "collapsed": true
   },
   "outputs": [],
   "source": [
    "lb = MultiLabelBinarizer()  # initialize the preprocessing object\n",
    "data = lb.fit_transform(features)  # apply the preprocessing transformation\n",
    "data = (\n",
    "    data.T\n",
    ")  # transpose the matrix to have states on the rows and plants on the columns\n",
    "\n",
    "usa_idx = np.isin(\n",
    "    lb.classes_, us_states\n",
    ")  # get the indices of US states in the data set\n",
    "data_usa = data[usa_idx]  # extract the rows containing US state data\n",
    "labels = lb.classes_[usa_idx]  # extract the relevant state names"
   ]
  },
  {
   "cell_type": "markdown",
   "metadata": {},
   "source": [
    "Scipy provides a hierarchical clustering method. We had already imported `import scipy.cluster.hierarchy` as `shc`. `linkage` method performs the clustering and returns the linkage matrix. [method](https://docs.scipy.org/doc/scipy/reference/generated/scipy.cluster.hierarchy.linkage.html) parameter describes how the distance between a cluster and a data point should be calculated. `dendrogram` method visualizes the clustering results."
   ]
  },
  {
   "cell_type": "code",
   "execution_count": null,
   "metadata": {},
   "outputs": [],
   "source": [
    "fig = plt.figure(figsize=(20, 7))\n",
    "ax = fig.add_subplot(1, 1, 1)\n",
    "\n",
    "Z = shc.linkage(data_usa, method=\"ward\")\n",
    "shc.dendrogram(Z, labels=labels, ax=ax)\n",
    "\n",
    "# plotting settings\n",
    "ax.tick_params(axis=\"x\", which=\"major\", labelsize=15)\n",
    "ax.tick_params(axis=\"y\", which=\"major\", labelsize=8)\n",
    "\n",
    "plt.show()\n",
    "plt.clf()"
   ]
  },
  {
   "cell_type": "markdown",
   "metadata": {},
   "source": [
    "Lastly, we will project our clustering results on the USA map. You can change the `n_clusters` parameter of the `cut_tree` method to visualize effects of cutting at different tree levels. `cut_tree` returns cluster assignments which we can use to color our USA map. You can vary `n_clusters` in `cut_three` method and see how the state clusters change.\n",
    "\n",
    "Our data set has flora information for 53 states, we will remove the states with missing flora information from the dataframe used to generate the plot."
   ]
  },
  {
   "cell_type": "code",
   "execution_count": null,
   "metadata": {},
   "outputs": [],
   "source": [
    "states = states[states.STUSPS.str.lower().isin(labels)]\n",
    "colors = shc.cut_tree(Z, n_clusters=2).flatten()\n",
    "color_map = dict(zip(labels, colors))\n",
    "\n",
    "states[\"colors\"] = [color_map[s.lower()] for s in states.STUSPS]\n",
    "fig = plt.figure(figsize=(20, 10))\n",
    "ax = fig.add_subplot(1, 1, 1)\n",
    "states.plot(column=\"colors\", ax=ax)\n",
    "plt.xlim([-200, -50])\n",
    "plt.show()"
   ]
  },
  {
   "cell_type": "markdown",
   "metadata": {},
   "source": [
    "## Exercise\n",
    "\n",
    "Pick a data set from the UCI repository. \n",
    "\n",
    "1. Visualize the data set with t-SNE. \n",
    "2. Apply k-means clustering. Vary `k` and comment on the results."
   ]
  },
  {
   "cell_type": "markdown",
   "metadata": {},
   "source": [
    "<a rel=\"license\" href=\"http://creativecommons.org/licenses/by-nc-sa/4.0/\"><img alt=\"Creative Commons License\" style=\"border-width:0\" src=\"https://i.creativecommons.org/l/by-nc-sa/4.0/88x31.png\" /></a><br />This work is licensed under a <a rel=\"license\" href=\"http://creativecommons.org/licenses/by-nc-sa/4.0/\">Creative Commons Attribution-NonCommercial-ShareAlike 4.0 International License</a>.\n",
    "\n",
    "Please contact Zeynep Hakguder (<a href=\"mailto:zphakguder@gmail.com\">zphakguder@gmail.com</a>) for further questions or inquries."
   ]
  }
 ],
 "metadata": {
  "kernelspec": {
   "display_name": "Python (hw)",
   "language": "python",
   "name": "hw"
  },
  "language_info": {
   "codemirror_mode": {
    "name": "ipython",
    "version": 3
   },
   "file_extension": ".py",
   "mimetype": "text/x-python",
   "name": "python",
   "nbconvert_exporter": "python",
   "pygments_lexer": "ipython3",
   "version": "3.8.6"
  }
 },
 "nbformat": 4,
 "nbformat_minor": 4
}
